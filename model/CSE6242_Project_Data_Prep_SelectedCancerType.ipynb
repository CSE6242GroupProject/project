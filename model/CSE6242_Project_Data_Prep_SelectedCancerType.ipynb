{
 "cells": [
  {
   "cell_type": "raw",
   "id": "6f937cc4-6c9b-4832-ad6f-8bc315eca325",
   "metadata": {},
   "source": [
    "Pesticide data: https://water.usgs.gov/nawqa/pnsp/usage/maps/county-level/\n",
    "Cancer data:  https://ghdx.healthdata.org/us-data) "
   ]
  },
  {
   "cell_type": "code",
   "execution_count": 1,
   "id": "2f849a1d-2029-4ddb-9959-f987160b889a",
   "metadata": {},
   "outputs": [],
   "source": [
    "import pandas as pd\n",
    "import numpy as np\n",
    "import csv"
   ]
  },
  {
   "cell_type": "code",
   "execution_count": 2,
   "id": "f891ad95-80e1-4920-8dce-e42d6dc26c2a",
   "metadata": {},
   "outputs": [],
   "source": [
    "datAll = pd.read_csv('data/combined_all.csv') #cancer data 1980 -2014"
   ]
  },
  {
   "cell_type": "code",
   "execution_count": 3,
   "id": "6af08241-1374-4f0f-a875-6cbf82c4ed88",
   "metadata": {},
   "outputs": [],
   "source": [
    "datAll['FIPS'] = pd.to_numeric(datAll['FIPS'], errors='coerce')\n",
    "# Drop rows with NaN or infinite values in the 'FIPS' column\n",
    "datAll = datAll.dropna(subset=['FIPS'])\n",
    "datAll = datAll[np.isfinite(datAll['FIPS'])]\n",
    "# Convert 'FIPS' column to string\n",
    "datAll['FIPS'] = datAll['FIPS'].astype(np.int64)  \n",
    "datAll['FIPS'] = datAll['FIPS'].astype(str)  \n",
    "datAll['YEAR'] = datAll['year_id'].astype(int)\n",
    "datAll = datAll.drop(columns=['location_id','location_name','cause_id', 'year_id'])"
   ]
  },
  {
   "cell_type": "raw",
   "id": "db6930c7-a565-40bf-8f85-f8d017829283",
   "metadata": {},
   "source": [
    "Pesticide exposure has been linked to an increased risk of several cancers, including non-Hodgkin's lymphoma, leukemia, prostate cancer, kidney cancer, lung cancer, colon cancer, and pancreatic cancer\n",
    "Many studies showed positive associations between pesticide exposure and solid tumours. The most consistent associations were found for brain and prostate cancer"
   ]
  },
  {
   "cell_type": "code",
   "execution_count": 39,
   "id": "219553f6-2083-4e9c-84ff-d1a8b429fe82",
   "metadata": {},
   "outputs": [],
   "source": [
    "#SELECT CANCER TYPE\n",
    "#'Brain and nervous system cancer',  'Neoplasms', 'Tracheal, bronchus, and lung cancer', 'Kidney cancer', 'Non-Hodgkin lymphoma', 'Leukemia'\n",
    "#'Prostate cancer','Colon and rectum cancer', 'Pancreatic cancer'\n",
    "\n",
    "cancer_list = ['Pancreatic cancer'] "
   ]
  },
  {
   "cell_type": "code",
   "execution_count": 41,
   "id": "e56cfb43-8f62-4f25-bccd-bf9d0fa563d6",
   "metadata": {},
   "outputs": [
    {
     "name": "stdout",
     "output_type": "stream",
     "text": [
      "<class 'pandas.core.frame.DataFrame'>\n",
      "Index: 335265 entries, 64260 to 10787349\n",
      "Data columns (total 8 columns):\n",
      " #   Column      Non-Null Count   Dtype  \n",
      "---  ------      --------------   -----  \n",
      " 0   FIPS        335265 non-null  object \n",
      " 1   cause_name  335265 non-null  object \n",
      " 2   sex_id      335265 non-null  int64  \n",
      " 3   sex         335265 non-null  object \n",
      " 4   mx          335265 non-null  float64\n",
      " 5   upper       335265 non-null  float64\n",
      " 6   lower       335265 non-null  float64\n",
      " 7   YEAR        335265 non-null  int32  \n",
      "dtypes: float64(3), int32(1), int64(1), object(3)\n",
      "memory usage: 21.7+ MB\n"
     ]
    }
   ],
   "source": [
    "datLimCancer = datAll[datAll['cause_name'].isin(cancer_list)]\n",
    "datLimCancer.info()\n",
    "datLimCancer.to_csv(f'C:\\\\Users\\\\lkb32\\\\Desktop\\\\CSE6242\\\\Project\\\\data\\\\cancer_pancreatic_cleaned.csv', index=False)"
   ]
  }
 ],
 "metadata": {
  "kernelspec": {
   "display_name": "Python [conda env:base] *",
   "language": "python",
   "name": "conda-base-py"
  },
  "language_info": {
   "codemirror_mode": {
    "name": "ipython",
    "version": 3
   },
   "file_extension": ".py",
   "mimetype": "text/x-python",
   "name": "python",
   "nbconvert_exporter": "python",
   "pygments_lexer": "ipython3",
   "version": "3.12.7"
  }
 },
 "nbformat": 4,
 "nbformat_minor": 5
}
